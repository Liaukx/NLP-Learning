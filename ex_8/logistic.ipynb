{
 "cells": [
  {
   "cell_type": "code",
   "execution_count": 24,
   "metadata": {},
   "outputs": [],
   "source": [
    "from sklearn.linear_model import LogisticRegression\n",
    "from sklearn.model_selection import train_test_split\n",
    "import pickle\n",
    "import numpy as np"
   ]
  },
  {
   "cell_type": "code",
   "execution_count": 42,
   "metadata": {},
   "outputs": [],
   "source": [
    "# 准确率\n",
    "from sklearn.metrics import accuracy_score as accu\n",
    "# 召回率\n",
    "from sklearn.metrics import recall_score as recall\n",
    "# F1\n",
    "from sklearn.metrics import f1_score as fs\n",
    "def  Pred(pred,label):\n",
    "    return accu(pred,label),recall(pred,label),fs(pred,label)\n",
    "    \n",
    "    "
   ]
  },
  {
   "cell_type": "code",
   "execution_count": 41,
   "metadata": {},
   "outputs": [
    {
     "name": "stdout",
     "output_type": "stream",
     "text": [
      "[False False  True False  True]\n",
      "[False False False False False]\n"
     ]
    }
   ],
   "source": [
    "# a = np.array([1,0,1,0,1])\n",
    "# b = np.array([0,0,1,0,1])\n",
    "# print(np.logical_and(a,b))\n",
    "# print(np.logical_and(np.logical_not(a),b))"
   ]
  },
  {
   "cell_type": "code",
   "execution_count": 46,
   "metadata": {},
   "outputs": [],
   "source": [
    "def Model(data,label,name):\n",
    "\t# 划分数据集\n",
    "\ttrain_f,test_f,train_f_y,test_f_y = train_test_split(data,label,train_size = 0.8,random_state=35)\n",
    "\n",
    "\t# 建立logistic 回归模型\n",
    "\tlogistc_f  = LogisticRegression().fit(train_f, train_f_y)\n",
    "\t# predict_f = logistc_f.predict(test_f)\n",
    "\n",
    "\t# 计算score\n",
    "\tprint(logistc_f.score(test_f,test_f_y))\n",
    "\n",
    "\t# 保存model\n",
    "\twith open(name + '.pickle','wb') as fw:\n",
    "\t\tpickle.dump(logistc_f,fw)\n",
    "\t\n",
    "\t# predict\n",
    "\tpredict_f = logistc_f.predict(test_f)\n",
    "\t# print(predict_f[:10])\n",
    "\taccu,recal,fs = Pred(predict_f,test_f_y)\n",
    "\t# print(accu,recal,fs)\n",
    "\twith open(name + 'pred.txt','w') as f:\n",
    "\t\ts = '准确率 '+ str(accu) + '\\n召回率 ' + str(recal)+ '\\nf1指标 ' + str(fs)\n",
    "\t\tf.write(s)\n"
   ]
  },
  {
   "cell_type": "code",
   "execution_count": 47,
   "metadata": {},
   "outputs": [
    {
     "name": "stdout",
     "output_type": "stream",
     "text": [
      "0.82625\n"
     ]
    }
   ],
   "source": [
    "# 读取ex_6 文本的向量表示\n",
    "File = []\n",
    "Path = r'../ex_5/序列化文本特征词表_TF_IDF'\n",
    "with open(Path,'rb') as f:\n",
    "    File = pickle.load(f)\n",
    "\n",
    "# 打标签/前2000 pos\n",
    "File = np.array(File)\n",
    "neg = np.zeros(2000)\n",
    "pos = np.ones(2000)\n",
    "label = np.concatenate([pos,neg],axis = 0)\n",
    "\n",
    "Model(File,label,'Model_6')"
   ]
  },
  {
   "cell_type": "code",
   "execution_count": 48,
   "metadata": {},
   "outputs": [
    {
     "name": "stdout",
     "output_type": "stream",
     "text": [
      "(12361, 64)\n",
      "0.6142337242215932\n"
     ]
    }
   ],
   "source": [
    "SPath = '..\\ex_7\\句子的向量表示_bin.npy'\n",
    "Sentence = np.load(SPath)\n",
    "print(np.shape(Sentence))\n",
    "# pos 5687\n",
    "# neg 6674\n",
    "\n",
    "# 打标签/前2000 pos\n",
    "\n",
    "posS = np.ones(5687)\n",
    "negS = np.zeros(6674)\n",
    "labelS = np.concatenate([posS,negS],axis = 0) \n",
    "\n",
    "Model(Sentence,labelS,'Model_7')"
   ]
  }
 ],
 "metadata": {
  "kernelspec": {
   "display_name": "Python 3.10.0 ('nlp')",
   "language": "python",
   "name": "python3"
  },
  "language_info": {
   "codemirror_mode": {
    "name": "ipython",
    "version": 3
   },
   "file_extension": ".py",
   "mimetype": "text/x-python",
   "name": "python",
   "nbconvert_exporter": "python",
   "pygments_lexer": "ipython3",
   "version": "3.10.0"
  },
  "orig_nbformat": 4,
  "vscode": {
   "interpreter": {
    "hash": "b26237669fb82f55901c81719d6b1a1c6f49e3c8345e7550e9986512a5b1f1dc"
   }
  }
 },
 "nbformat": 4,
 "nbformat_minor": 2
}
