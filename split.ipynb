{
 "cells": [
  {
   "cell_type": "code",
   "execution_count": 162,
   "metadata": {},
   "outputs": [],
   "source": [
    "from sklearn.model_selection import train_test_split\n",
    "import math\n",
    "import re\n",
    "def PreData():\n",
    "    txt = open(r'./BME标注.txt', encoding='utf-8').readlines()\n",
    "    # 设置random_state保证每次划分都一样\n",
    "    train_data_, test_data_ = train_test_split(txt, test_size=0.2, random_state=10)\n",
    "    # print(train_data[:10])\n",
    "    train_data = []\n",
    "    test_data = []\n",
    "    for iter in train_data_:\n",
    "        tmp =  re.split('。|？|！',iter)\n",
    "        train_data += tmp\n",
    "\n",
    "\n",
    "    for iter in test_data_:\n",
    "        iter = re.sub(' *','',iter)\n",
    "        iter = re.sub('/[A-Z]*','',iter)\n",
    "        tmp =  re.split('。|？|！',iter)\n",
    "        test_data += tmp\n",
    "\n",
    "    return train_data,test_data\n",
    "        \n",
    "def SeqData(train_data):\n",
    "    seq_train = []\n",
    "    # seq_test = []\n",
    "    for iter in train_data:\n",
    "        tmp =  re.split('。|？|！',iter)\n",
    "        st = ''\n",
    "        for ech in tmp:\n",
    "            seq = re.findall('/[A-Z]',ech)\n",
    "            st += ''.join(seq)\n",
    "        seq_train.append(st)\n",
    "\n",
    "    return seq_train\n",
    "\n"
   ]
  },
  {
   "cell_type": "code",
   "execution_count": 1,
   "metadata": {},
   "outputs": [
    {
     "name": "stdout",
     "output_type": "stream",
     "text": [
      "['abc', 'dfe', 'ee']\n"
     ]
    }
   ],
   "source": [
    "# test_0,test_1 = PreData()\n",
    "# # test_2 = SeqData(test_0,)\n",
    "# test_0[:5]\n",
    "# s = 'abc/dfe/ee'\n",
    "# print (s.split('/'))"
   ]
  },
  {
   "cell_type": "code",
   "execution_count": 164,
   "metadata": {},
   "outputs": [],
   "source": [
    "def Count(train_data_str):\n",
    "    label_dic = {}\n",
    "    status = ['B','M','S','E']\n",
    "    for iter in status:\n",
    "        label_dic[iter] = 0\n",
    "    for iter in range(len(train_data_str)):\n",
    "        label_dic[train_data_str[iter]] += 1\n",
    "    \n",
    "    B = label_dic['B']\n",
    "    M = label_dic['M']\n",
    "    S = label_dic['S']\n",
    "    E = label_dic['E']\n",
    "    return B,M,S,E"
   ]
  },
  {
   "cell_type": "code",
   "execution_count": 183,
   "metadata": {},
   "outputs": [],
   "source": [
    "\n",
    "def start_pro(train_data):\n",
    "    start_p = {}\n",
    "    status = ['B','M','S','E']\n",
    "    for iter in status:\n",
    "        start_p[iter] = 0\n",
    "    for iter in train_data:\n",
    "        # print (type(iter))\n",
    "        iter = re.sub('/','',iter)\n",
    "        # 初始概率\n",
    "        if len(iter) == 0:\n",
    "            continue\n",
    "        word_b = iter[0]\n",
    "        if word_b in start_p:\n",
    "            start_p[word_b] += 1\n",
    "    \n",
    "    for iter in start_p.keys():\n",
    "        if start_p[iter] < 1e-7:\n",
    "            start_p[iter] += 1\n",
    "        start_p[iter] = -math.log(start_p[iter]/len(train_data))\n",
    "    return start_p"
   ]
  },
  {
   "cell_type": "code",
   "execution_count": 184,
   "metadata": {},
   "outputs": [],
   "source": [
    "def transfer_pro(train_data):\n",
    "    train_data_s = ''.join(train_data)\n",
    "    train_data_s = re.sub('/s','',train_data_s)\n",
    "    train_data_s = re.sub('/','',train_data_s)\n",
    "    transfer_p = {}        \n",
    "\n",
    "    status = ['BM','MB','MS','SM','ME','EM','BS','SB','BE','EB','ES','SE','BB','MM','SS','EE']\n",
    "    for iter in status:\n",
    "        transfer_p[iter] = 0\n",
    "    \n",
    "    for iter in range(len(train_data_s)):\n",
    "        if iter == 0:\n",
    "            continue\n",
    "        transfer_p[train_data_s[iter-1:iter +1]] += 1\n",
    "    for iter in transfer_p.keys():\n",
    "        if transfer_p[iter]  < 1e-7:\n",
    "            transfer_p[iter] += 1\n",
    "        transfer_p[iter] = -math.log(transfer_p[iter]/len(train_data_s))\n",
    "        \n",
    "    return transfer_p"
   ]
  },
  {
   "cell_type": "code",
   "execution_count": 167,
   "metadata": {},
   "outputs": [],
   "source": [
    "# s = \"本/B报/E  布/B鲁/M塞/M尔/E \"\n",
    "# List = re.findall('./E',s)\n",
    "# List[0] = re.sub('/E','',List[0])\n",
    "# print (List[0])"
   ]
  },
  {
   "cell_type": "code",
   "execution_count": 2,
   "metadata": {},
   "outputs": [
    {
     "ename": "ModuleNotFoundError",
     "evalue": "No module named 'zhon'",
     "output_type": "error",
     "traceback": [
      "\u001b[1;31m---------------------------------------------------------------------------\u001b[0m",
      "\u001b[1;31mModuleNotFoundError\u001b[0m                       Traceback (most recent call last)",
      "\u001b[1;32mC:\\Windows\\Temp/ipykernel_21808/1997104251.py\u001b[0m in \u001b[0;36m<module>\u001b[1;34m\u001b[0m\n\u001b[1;32m----> 1\u001b[1;33m \u001b[1;32mfrom\u001b[0m \u001b[0mzhon\u001b[0m\u001b[1;33m.\u001b[0m\u001b[0mhanzi\u001b[0m \u001b[1;32mimport\u001b[0m \u001b[0mpunctuation\u001b[0m\u001b[1;33m\u001b[0m\u001b[1;33m\u001b[0m\u001b[0m\n\u001b[0m\u001b[0;32m      2\u001b[0m \u001b[0mpunctuation\u001b[0m\u001b[1;33m\u001b[0m\u001b[1;33m\u001b[0m\u001b[0m\n\u001b[0;32m      3\u001b[0m \u001b[1;33m\u001b[0m\u001b[0m\n\u001b[0;32m      4\u001b[0m \u001b[1;32mdef\u001b[0m \u001b[0mknowndic\u001b[0m\u001b[1;33m(\u001b[0m\u001b[0mtrain_data\u001b[0m\u001b[1;33m)\u001b[0m\u001b[1;33m:\u001b[0m\u001b[1;33m\u001b[0m\u001b[1;33m\u001b[0m\u001b[0m\n\u001b[0;32m      5\u001b[0m     \u001b[0mknowledge_table\u001b[0m \u001b[1;33m=\u001b[0m \u001b[1;33m{\u001b[0m\u001b[1;33m}\u001b[0m\u001b[1;33m\u001b[0m\u001b[1;33m\u001b[0m\u001b[0m\n",
      "\u001b[1;31mModuleNotFoundError\u001b[0m: No module named 'zhon'"
     ]
    }
   ],
   "source": [
    "# from zhon.hanzi import punctuation\n",
    "# punctuation\n",
    "\n",
    "def knowndic(train_data):\n",
    "    knowledge_table = {}\n",
    "    for sentence in train_data:\n",
    "        tmp = re.findall('./[A-Z]',sentence)\n",
    "        for iter in tmp:\n",
    "            if iter[0] in knowledge_table:\n",
    "                if iter[-1] not in knowledge_table[iter[0]]:\n",
    "                    knowledge_table[iter[0]].append(iter[-1])\n",
    "                    # print(type(knowledge_table[iter[0]]))\n",
    "            else:\n",
    "                knowledge_table[iter[0]] = [iter[-1]]\n",
    "                # knowledge_table[iter[0]] = {iter[-1]:1}\n",
    "    return knowledge_table\n"
   ]
  },
  {
   "cell_type": "code",
   "execution_count": 169,
   "metadata": {},
   "outputs": [
    {
     "data": {
      "text/plain": [
       "{'我': ['B', 'S'], '的': ['E'], '们': ['M'], '你': ['B'], '和': ['M']}"
      ]
     },
     "execution_count": 169,
     "metadata": {},
     "output_type": "execute_result"
    }
   ],
   "source": [
    "s = ['我/B的/E我/S们/M的/E你/B和/M我/B']\n",
    "knowndic(s)\n"
   ]
  },
  {
   "cell_type": "code",
   "execution_count": 185,
   "metadata": {},
   "outputs": [],
   "source": [
    "def _launch_pro(train_data,tar):\n",
    "    dit = {}\n",
    "    p_tar = '.' + tar\n",
    "    _list = re.findall(p_tar,train_data)\n",
    "    for iter in _list:\n",
    "        iter = re.sub(tar,'',iter)\n",
    "        if iter in dit:\n",
    "            dit[iter] += 1\n",
    "        else:\n",
    "            dit[iter] = 1\n",
    "    \n",
    "    for k in dit.keys():\n",
    "        if dit[k] <  1e-7:\n",
    "            dit[k] += 1\n",
    "        dit[k] = -math.log(dit[k] / len(_list))\n",
    "    return dit"
   ]
  },
  {
   "cell_type": "code",
   "execution_count": 171,
   "metadata": {},
   "outputs": [],
   "source": [
    "def launch_pro(train_data):\n",
    "    train_data = ''.join(train_data)\n",
    "    launch_p = {\n",
    "        'B':{},\n",
    "        'M':{},\n",
    "        'S':{},\n",
    "        'E':{}\n",
    "    }\n",
    "    for iter in launch_p.keys():\n",
    "        launch_p[iter] = _launch_pro(train_data,'/'+iter)\n",
    "    \n",
    "    return launch_p"
   ]
  },
  {
   "cell_type": "code",
   "execution_count": 172,
   "metadata": {},
   "outputs": [
    {
     "name": "stdout",
     "output_type": "stream",
     "text": [
      "{'B': {'本': 0.6931471805599453, '布': 0.6931471805599453}, 'M': {'鲁': 0.6931471805599453, '塞': 0.6931471805599453}, 'S': {}, 'E': {'报': 0.6931471805599453, '尔': 0.6931471805599453}}\n"
     ]
    }
   ],
   "source": [
    "s = \"本/B报/E  布/B鲁/M塞/M尔/E \\n\"\n",
    "p = launch_test = launch_pro(s)\n",
    "print(p)"
   ]
  },
  {
   "cell_type": "code",
   "execution_count": 5,
   "metadata": {},
   "outputs": [],
   "source": [
    "# 输出概率字典到json文件\n",
    "import json\n",
    "def WriteF(path,dic):\n",
    "    with open(path,'w',encoding='utf-8') as f:\n",
    "        # ensuer_ascii Fales 不用编码输出，显示为汉字\n",
    "        f.write(json.dumps(dic,sort_keys=True,ensure_ascii=False,indent=4, separators=(',', ':')))\n",
    "    return\n",
    "\n",
    "def WriteDataF(path,data):\n",
    "    with open(path,'w',encoding='utf-8') as f:\n",
    "        for iter in data:\n",
    "            f.writelines(iter)\n",
    "        f.close()\n",
    "    return"
   ]
  },
  {
   "cell_type": "code",
   "execution_count": 49,
   "metadata": {},
   "outputs": [],
   "source": [
    "# viterbi算法的实现\n",
    "# https://www.zhihu.com/question/20136144\n",
    "\n",
    "def viterbi(start_p, trans_p, emit_p,states,obs):  # 维特比算法（一种递归算法）\n",
    "    V = [{}]\n",
    "    path = {}\n",
    "    for y in states:\n",
    "        V[0][y] = start_p[y] * emit_p[y].get(obs[0], 0)  # 在位置0，以y状态为末尾的状态序列的最大概率\n",
    "        path[y] = [y]\n",
    "\n",
    "    for t in range(1, len(obs)):\n",
    "        V.append({})\n",
    "        newpath = {}\n",
    "        for y in states:\n",
    "            state_path = ([(V[t - 1][y0] * trans_p[y0].get(y, 0) * emit_p[y].get(obs[t], 0), y0) for y0 in states if V[t - 1][y0] > 0])\n",
    "            if state_path == []:\n",
    "                (prob, state) = (0.0, 'S')\n",
    "            else:\n",
    "                (prob, state) = max(state_path)\n",
    "            V[t][y] = prob\n",
    "            newpath[y] = path[state] + [y]\n",
    "\n",
    "        path = newpath  # 记录状态序列\n",
    "    (prob, state) = max([(V[len(obs) - 1][y], y) for y in states])  # 在最后一个位置，以y状态为末尾的状态序列的最大概率\n",
    "    return (prob, path[state])  # 返回概率和状态序列\n",
    "\n",
    "# 分词\n",
    "def cut(sent, prob_start, prob_trans, prob_emit):\n",
    "    prob, pos_list = viterbi(sent, ('B', 'M', 'E', 'S'), prob_start, prob_trans, prob_emit)\n",
    "    seglist = list()\n",
    "    word = list()\n",
    "    for index in range(len(pos_list)):\n",
    "        if pos_list[index] == 'S':\n",
    "            word.append(sent[index])\n",
    "            seglist.append(word)\n",
    "            word = []\n",
    "        elif pos_list[index] in ['B', 'M']:\n",
    "            word.append(sent[index])\n",
    "        elif pos_list[index] == 'E':\n",
    "            word.append(sent[index])\n",
    "            seglist.append(word)\n",
    "            word = []\n",
    "    seglist = [''.join(tmp) for tmp in seglist]\n",
    "\n",
    "    return seglist\n",
    "\n"
   ]
  },
  {
   "cell_type": "code",
   "execution_count": 53,
   "metadata": {},
   "outputs": [
    {
     "name": "stdout",
     "output_type": "stream",
     "text": [
      "<class 'dict'>\n"
     ]
    }
   ],
   "source": [
    "def read_j(path):\n",
    "    dic = {}\n",
    "    with open(path, 'r') as f:\n",
    "        dic = json.load(fp=f)\n",
    "    return dic\n",
    "\n",
    "def test_viterbi():\n",
    "    start_p = read_j('./初始概率.json')\n",
    "    transfer_p = read_j('./转移概率.json')\n",
    "    launch_p = read_j('./发射概率.json')\n",
    "    knowndic = read_j('./知识表.json')\n",
    "    s = '抓典型是我们党的优良传统'\n",
    "    print(viterbi(start_p,transfer_p,launch_p,knowndic,s))\n",
    "    \n",
    "    \n",
    "\n",
    "# test_viterbi()"
   ]
  },
  {
   "cell_type": "code",
   "execution_count": 186,
   "metadata": {},
   "outputs": [],
   "source": [
    "\n",
    "def main():\n",
    "    train_data,test_data = PreData()\n",
    "    WriteDataF('./训练集.txt',train_data)\n",
    "    WriteDataF('./测试集.txt',test_data)\n",
    "    seq_txt = SeqData(train_data)\n",
    "    know = knowndic(train_data)\n",
    "    start_p = start_pro(seq_txt)\n",
    "    transfer_p = transfer_pro(seq_txt)\n",
    "    launch_p = launch_pro(train_data)\n",
    "    WriteF('./知识表.json',know)\n",
    "    WriteF('./初始概率.json',start_p)\n",
    "    WriteF('./转移概率.json',transfer_p)\n",
    "    WriteF('./发射概率.json',launch_p)\n",
    "\n",
    "    s = '如何选择联网漫游台'\n",
    "    print(viterbi(know,transfer_p,launch_p,start_p,s))\n",
    "if __name__ == '__main__':\n",
    "    main()"
   ]
  },
  {
   "cell_type": "markdown",
   "metadata": {},
   "source": [
    "# 老师，我处理的知识表里面有一些字符，viterbi算法进行不下去"
   ]
  }
 ],
 "metadata": {
  "interpreter": {
   "hash": "18971e19cd97d437897f89a4050b06dc3fe2bc0b3d9ace86632b37c80abdc31f"
  },
  "kernelspec": {
   "display_name": "Python 3 (ipykernel)",
   "language": "python",
   "name": "python3"
  },
  "language_info": {
   "codemirror_mode": {
    "name": "ipython",
    "version": 3
   },
   "file_extension": ".py",
   "mimetype": "text/x-python",
   "name": "python",
   "nbconvert_exporter": "python",
   "pygments_lexer": "ipython3",
   "version": "3.10.0"
  }
 },
 "nbformat": 4,
 "nbformat_minor": 2
}
