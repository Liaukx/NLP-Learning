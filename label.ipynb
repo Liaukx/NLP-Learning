{
 "cells": [
  {
   "cell_type": "code",
   "execution_count": 166,
   "metadata": {},
   "outputs": [],
   "source": [
    "# 字标注\n",
    "import re\n",
    "\n",
    "def readF(path,encode):\n",
    "    file = open(path,encoding=encode)\n",
    "    txt = file.read()\n",
    "    file.close()\n",
    "    return txt\n",
    "\n",
    "def _label(s):\n",
    "    \n",
    "    if len(s) == 1:\n",
    "        s = s+'/S'\n",
    "        return s\n",
    "\n",
    "    list_s = list(s)\n",
    "    for index in range (len(s)):\n",
    "    \n",
    "        if index == 0:\n",
    "            list_s[index] += '/B'\n",
    "        elif index == len(s) - 1:\n",
    "            list_s[index] += '/E'\n",
    "            continue\n",
    "        else:\n",
    "            list_s[index] += '/M'\n",
    "    return ''.join(list_s)\n",
    "\n",
    "def label(s):\n",
    "    # 全半角\n",
    "    rstring = ''\n",
    "    for uchar in s:\n",
    "        inside_code = ord(uchar)\n",
    "        if inside_code == 12288:                                #全角空格直接转换\n",
    "            inside_code = 32\n",
    "        elif (inside_code >= 65281 and inside_code <= 65374):   #全角字符（除空格）根据关系转化\n",
    "            inside_code -= 65248\n",
    "        rstring += chr(inside_code)\n",
    "    s = rstring\n",
    "\n",
    "    s = re.sub('[0-9]*-[0-9]*-[0-9]*-[0-9]*/m *','',s)\n",
    "    s = re.sub('/[a-z]*','',s)\n",
    "    s = re.sub(' *(\\[) *','',s)\n",
    "    s = re.sub(' *(\\]) *','',s)\n",
    "    s = re.sub(' *(\\() *','',s)\n",
    "    s = re.sub(' *(\\)) *','',s)\n",
    "\n",
    "    s_l = re.split(r'\\n',s)\n",
    "    res = []\n",
    "    for iter in s_l:\n",
    "        ans = []\n",
    "        L = iter.split(' ')\n",
    "        for it in L :\n",
    "            it = re.sub(r'\\n','',it)\n",
    "            ans.append( _label(it))\n",
    "        iter = ' '.join(ans)\n",
    "    \n",
    "        res.append(iter)\n",
    "\n",
    "    return '\\n'.join(res)\n"
   ]
  },
  {
   "cell_type": "code",
   "execution_count": 167,
   "metadata": {},
   "outputs": [
    {
     "name": "stdout",
     "output_type": "stream",
     "text": [
      "23065\n"
     ]
    }
   ],
   "source": [
    "\n",
    "def main():\n",
    "    s = readF(r'./199801.txt',encode= 'utf-8')\n",
    "    txt = label(s)\n",
    "    with open('BME标注.txt','w',encoding='utf-8') as f:\n",
    "        f.write(txt)\n",
    "\n",
    "if __name__ == '__main__':\n",
    "    main()"
   ]
  }
 ],
 "metadata": {
  "interpreter": {
   "hash": "18971e19cd97d437897f89a4050b06dc3fe2bc0b3d9ace86632b37c80abdc31f"
  },
  "kernelspec": {
   "display_name": "Python 3.9.5 ('nlp')",
   "language": "python",
   "name": "python3"
  },
  "language_info": {
   "codemirror_mode": {
    "name": "ipython",
    "version": 3
   },
   "file_extension": ".py",
   "mimetype": "text/x-python",
   "name": "python",
   "nbconvert_exporter": "python",
   "pygments_lexer": "ipython3",
   "version": "3.10.0"
  },
  "orig_nbformat": 4
 },
 "nbformat": 4,
 "nbformat_minor": 2
}
