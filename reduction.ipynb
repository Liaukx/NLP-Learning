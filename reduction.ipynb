{
 "cells": [
  {
   "cell_type": "code",
   "execution_count": 12,
   "metadata": {},
   "outputs": [],
   "source": [
    "# 读取文件\n",
    "import re\n",
    "file = open(r'./199801.txt',encoding=\"gbk\")\n",
    "txt = file.read()\n",
    "file.close()\n"
   ]
  },
  {
   "cell_type": "code",
   "execution_count": 13,
   "metadata": {},
   "outputs": [],
   "source": [
    "# 为标注\n",
    "txt = re.sub(' */[a-z]* *','/',txt)\n",
    "txt = re.sub('[0-9]*-[0-9]*-[0-9]*-[0-9]*','',txt)\n",
    "txt = re.sub(' *(\\[) *','',txt)\n",
    "txt = re.sub(' *(\\]) *','',txt)\n",
    "txt = re.sub(' *[A-Za-z]* *','',txt)\n",
    "\n",
    "with open('ori.txt','w',encoding='utf-8') as f:\n",
    "\tf.write(txt)\n",
    "\tf.close()"
   ]
  },
  {
   "cell_type": "code",
   "execution_count": null,
   "metadata": {},
   "outputs": [],
   "source": [
    "# 输出为文件"
   ]
  }
 ],
 "metadata": {
  "interpreter": {
   "hash": "18971e19cd97d437897f89a4050b06dc3fe2bc0b3d9ace86632b37c80abdc31f"
  },
  "kernelspec": {
   "display_name": "Python 3 (ipykernel)",
   "language": "python",
   "name": "python3"
  },
  "language_info": {
   "codemirror_mode": {
    "name": "ipython",
    "version": 3
   },
   "file_extension": ".py",
   "mimetype": "text/x-python",
   "name": "python",
   "nbconvert_exporter": "python",
   "pygments_lexer": "ipython3",
   "version": "3.10.0"
  }
 },
 "nbformat": 4,
 "nbformat_minor": 2
}
