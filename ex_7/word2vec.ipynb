{
 "cells": [
  {
   "cell_type": "code",
<<<<<<< HEAD
   "execution_count": 1,
=======
   "execution_count": 11,
>>>>>>> 125fae4b492727e50c4bd48a56118ce439cb7760
   "metadata": {},
   "outputs": [],
   "source": [
    "import jieba\n",
    "import json\n",
    "import re\n",
    "import os\n",
    "import re\n",
    "import chardet"
   ]
  },
  {
   "cell_type": "code",
<<<<<<< HEAD
   "execution_count": 2,
   "metadata": {},
   "outputs": [
    {
     "name": "stderr",
     "output_type": "stream",
     "text": [
      "Building prefix dict from the default dictionary ...\n",
      "Loading model from cache C:\\Windows\\Temp\\jieba.cache\n",
      "Loading model cost 0.636 seconds.\n",
      "Prefix dict has been built successfully.\n"
     ]
    }
   ],
   "source": [
    "# 读取数据集，预处理。\n",
    "# 分句子\n",
    "# 句子分词\n",
    "\n",
=======
   "execution_count": 3,
   "metadata": {},
   "outputs": [],
   "source": [
>>>>>>> 125fae4b492727e50c4bd48a56118ce439cb7760
    "# 文件批处理\n",
    "def FileReader(tag):\n",
    "    # print(os.getcwd())\n",
    "    path = r'../ex_5/data/htl_del_4000/' + tag \n",
    "    os.listdir(path)\n",
    "    FileList = []\n",
    "    for iter in os.listdir(path):\n",
    "        if os.path.splitext(iter)[1] == '.txt':\n",
    "            FileList.append(iter)\n",
<<<<<<< HEAD
    "    return FileList\n",
    "\n",
    "\n",
    "def _PreProcess(article):\n",
    "    article = re.sub('\\\\s','',article)\n",
    "    article = re.sub('，','',article)\n",
    "    article = re.sub('；','',article)\n",
=======
    "    return FileList\n"
   ]
  },
  {
   "cell_type": "code",
   "execution_count": null,
   "metadata": {},
   "outputs": [],
   "source": [
    "# 对语料进行分词，去除停用词\n",
    "\n",
    "def _PreProcess(article):\n",
    "    article = re.sub('\\\\s','',article)\n",
>>>>>>> 125fae4b492727e50c4bd48a56118ce439cb7760
    "    article = re.sub('[a-z,A-Z]*','',article)\n",
    "    sentence = article.split('。|？|！')\n",
    "    row_list =[]\n",
    "    for iter in sentence:\n",
    "        row_list.append(jieba.lcut(iter,cut_all = False)) \n",
<<<<<<< HEAD
=======
    "    # print(type(row_list))\n",
    "\n",
>>>>>>> 125fae4b492727e50c4bd48a56118ce439cb7760
    "    return row_list\n",
    "\n",
    "def PreProcess(path,id_f):\n",
    "    text = ''\n",
    "    # print(path)\n",
    "    with open(path,'r',encoding = 'gbk',errors = 'ignore') as txt:\n",
    "        text = txt.readline()\n",
    "    # print(text[:20])\n",
    "    sentences = _PreProcess(text)\n",
    "    # print(type(sentences))\n",
    "    dic = {}\n",
    "    id_c = 0\n",
    "    for iter in sentences:\n",
    "        dic[id_c] = iter\n",
    "        id_c += 1\n",
    "    return dic\n",
    "\n",
    "\n",
    "\n",
    "def File_Dic(FileList,tag):\n",
    "    path = r'../ex_5/data/htl_del_4000/' + tag + r'/'\n",
    "    dic = {}\n",
    "\n",
    "    for iter in range(0,len(FileList)):\n",
    "        cur_path = path + FileList[iter]\n",
    "        dic[iter] = PreProcess(cur_path,iter)\n",
    "        # print(dic[iter])\n",
    "    return dic\n",
    "\n",
    "\n",
    "def row_split(tag):\n",
    "    FileList = FileReader(tag)\n",
<<<<<<< HEAD
    "    volc = File_Dic(FileList,tag)\n",
=======
    "    # ReWrite(FileList,tag)\n",
    "    volc = File_Dic(FileList,tag)\n",
    "    # print(len(FileList))\n",
>>>>>>> 125fae4b492727e50c4bd48a56118ce439cb7760
    "    j_data = json.dumps(volc,ensure_ascii=False)\n",
    "    with open(r'./row_语料分词_' + tag + '.json' ,'w',encoding='utf-8') as f:\n",
    "        f.write(j_data)\n",
    "\n",
    "row_split('pos')\n",
    "row_split('neg')"
   ]
  },
  {
   "cell_type": "code",
<<<<<<< HEAD
   "execution_count": 3,
   "metadata": {},
   "outputs": [],
   "source": [
    "# 把所有的句子load 进来\n",
    "def loadSentence():\n",
    "    sentence = []\n",
    "    dic = {}\n",
    "    path = '.\\\\row_语料分词_'\n",
    "    with open(path + 'pos.json','r',encoding = 'utf-8') as f:\n",
    "        dic = json.load(f)\n",
    "        for iter in dic.values():\n",
    "            for val in iter.values():\n",
    "                sentence.append(val)\n",
    "    with open(path + 'neg.json','r',encoding = 'utf-8') as f:\n",
    "        dic = json.load(f)\n",
    "        for iter in dic.values():\n",
    "            for val in iter.values():\n",
    "                sentence.append(val)\n",
    "    return sentence\n",
    "sentences = loadSentence()\n"
=======
   "execution_count": 12,
   "metadata": {},
   "outputs": [],
   "source": [
    "# 加载分词后的实验数据，获取所有的句子，计算句子的向量表示\n",
    "def load_sentence(tag):\n",
    "    sentence = []\n",
    "    data = {}\n",
    "    with open(r'./row_语料分词_' + tag + '.json' ,'r',encoding='utf-8') as f:\n",
    "        data = json.load(f)\n",
    "        for iter in data.values():\n",
    "            for sent in iter.values():\n",
    "                sentence.append(sent)\n",
    "    return sentence\n",
    "sentencePos = load_sentence('pos')\n",
    "sentenceNeg = load_sentence('neg')\n",
    "# print(sentencePos[:10])\n"
>>>>>>> 125fae4b492727e50c4bd48a56118ce439cb7760
   ]
  },
  {
   "cell_type": "code",
<<<<<<< HEAD
   "execution_count": 4,
   "metadata": {},
   "outputs": [],
   "source": [
    "# print(sentence[:10])"
=======
   "execution_count": 19,
   "metadata": {},
   "outputs": [],
   "source": [
    "def _countF(set,sentences):\n",
    "    dic = {}\n",
    "    for iter in set:\n",
    "        for sentence in sentences:\n",
    "            if iter not in dic:\n",
    "                dic[iter] = 0\n",
    "            if iter in sentence:\n",
    "                dic[iter] += 1\n",
    "    return dic\n",
    "\n",
    "# 测试\n",
    "# c = ['a','e','i','o','u']\n",
    "# c = set(c)\n",
    "# word = ['my','supper','countless']\n",
    "# dic = _countF(c,word)\n",
    "# print(dic)"
>>>>>>> 125fae4b492727e50c4bd48a56118ce439cb7760
   ]
  },
  {
   "cell_type": "code",
<<<<<<< HEAD
   "execution_count": 5,
   "metadata": {},
   "outputs": [],
   "source": [
    "from gensim.models import word2vec\n",
    "\n",
    "CBOW_Model = word2vec.Word2Vec(sentences, vector_size=64,sg = 0)\n",
    "CBOW_Model.save(\"word2vec_CBOW.model\")\n",
    "\n",
    "\n",
    "skip_garm_Model = word2vec.Word2Vec(sentences, vector_size=64,sg = 0)\n",
    "skip_garm_Model.save(\"word2vec_skip_garm.model\")\n"
=======
   "execution_count": 7,
   "metadata": {},
   "outputs": [],
   "source": [
    "import numpy as np\n",
    "def softmax(x):\n",
    "    x = np.array(x)\n",
    "    f_x = np.exp(x) / np.sum(np.exp(x))\n",
    "    \n",
    "    return list(f_x)"
>>>>>>> 125fae4b492727e50c4bd48a56118ce439cb7760
   ]
  },
  {
   "cell_type": "code",
<<<<<<< HEAD
   "execution_count": 6,
   "metadata": {},
   "outputs": [],
   "source": [
    "# 训练好的 词向量\n",
    "# https://radimrehurek.com/gensim/models/keyedvectors.html#\n",
    "from gensim.models import KeyedVectors\n",
    "\n",
    "# 二进制形式\n",
    "# CBOW_vectors = model.wv\n",
    "# CBOW_vectors.save('CBOWvectors.kv')\n",
    "# CBOW_word_vectors = KeyedVectors.load('vectors.kv')\n",
    "\n",
    "CBOW_Model.wv.save_word2vec_format('CBOW.txt',binary = False)\n",
    "skip_garm_Model.wv.save_word2vec_format('skip_garm.txt',binary = False)\n"
   ]
  },
  {
   "cell_type": "code",
   "execution_count": 7,
   "metadata": {},
   "outputs": [
    {
     "name": "stdout",
     "output_type": "stream",
     "text": [
      "[-0.38546753 -1.1418064  -0.01599721  1.2054935  -0.5851381  -0.13262483\n",
      "  0.9229965  -0.19148284 -0.11733907  0.16925378  1.3756491  -0.0657078\n",
      " -0.832383   -0.30477536 -0.53981596  0.57047254 -0.22752771  0.31068173\n",
      " -0.87020254  0.80972415  0.139421    1.1410855   0.6405324  -0.3253074\n",
      " -0.296234    1.2982062  -1.0695691  -0.7659042  -0.0940172  -0.3780732\n",
      " -1.25914     0.57283354 -0.01303039 -1.3392258   0.95464677 -0.35474157\n",
      "  0.5081407   0.17268784  0.7460856   0.2892304   0.05126662  0.30233008\n",
      " -0.22375078 -0.6347759   0.05071115  0.00947358 -0.6775628   0.07448909\n",
      "  0.3890157   0.48818842  1.4612288  -0.32461804  2.2384145   0.33653262\n",
      " -0.04040506  0.82729954 -0.06483963 -0.10592854 -0.7243143   0.85481715\n",
      " -0.34403443 -0.67503786 -0.4609267   0.20263681]\n",
      "[('一般', 0.9946792721748352), ('旧', 0.9929395318031311), ('陈旧', 0.9896893501281738), ('比较', 0.986160933971405), ('设施', 0.9835678339004517), ('环境', 0.9779455661773682), ('隔音', 0.969700276851654), ('交通', 0.9667686223983765), ('服务', 0.9666031002998352), ('位置', 0.9649568200111389)]\n",
      "\n",
      "[('太', 0.9741639494895935), ('非常', 0.9680302739143372), ('隔音', 0.9654123783111572), ('一般', 0.9649245738983154), ('环境', 0.9580691456794739), ('服务', 0.9580107927322388), ('不好', 0.9562211632728577), ('旧', 0.9545076489448547), ('干净', 0.9544760584831238), ('硬件', 0.9538646936416626)]\n"
     ]
    }
   ],
   "source": [
    "#读取模型\n",
    "# model = word2vec.Word2Vec.load(\"your_model_name\")\n",
    "CBOW_Vector = CBOW_Model.wv\n",
    "skip_garm_Vector = skip_garm_Model.wv\n",
    "print(CBOW_Vector['干净'])\n",
    "\n",
    "print(CBOW_Vector.most_similar('干净'))\n",
    "print()\n",
    "print(skip_garm_Vector.most_similar('差'))"
   ]
  },
  {
   "cell_type": "code",
   "execution_count": 12,
   "metadata": {},
   "outputs": [
    {
     "name": "stdout",
     "output_type": "stream",
     "text": [
      "3116\n",
      "3116\n"
     ]
    }
   ],
   "source": [
    "# 利用已得到的词的向量表示做句子的向量表示\n",
    "print(len(CBOW_Vector))\n",
    "print(len(skip_garm_Vector))"
   ]
  },
  {
   "cell_type": "code",
   "execution_count": 34,
   "metadata": {},
   "outputs": [
    {
     "name": "stdout",
     "output_type": "stream",
     "text": [
      "['早餐', '太', '差', '无论', '去', '多少', '人', '那边', '也', '不加', '食品', '的', '。', '酒店', '应该', '重视', '一下', '这个', '问题', '了', '。']\n",
      "True\n",
      "[ 0.12726249 -1.5418426   0.28264233  1.6989754  -0.65395176 -0.65997136\n",
      "  1.5511466  -0.24062192 -0.69757056 -0.3390669   1.8858888  -0.34032008\n",
      " -1.0752648  -0.2857719  -0.35868183  1.0261322  -0.49597588  0.39020887\n",
      " -1.6296406   1.7507511   0.510687    1.8434359   0.9167287  -0.71175325\n",
      " -0.5711991   2.2910721  -1.3023049  -0.96907884  0.20774987 -0.6491987\n",
      " -1.5483644   0.78292453 -0.58945614 -2.1910565   0.8232534  -0.86344624\n",
      "  0.65786123  0.4313955   1.1529459   0.6241488   0.17397292  0.6184188\n",
      " -0.39093387 -0.7265857   0.25482213 -0.088252   -0.89360404  0.04202253\n",
      "  0.36171803  1.1869557   1.6700854  -0.5367707   3.1584563   0.776029\n",
      "  0.07852153  1.089687    0.03483498 -0.76088685 -1.3283246   1.2623179\n",
      " -0.3767741  -1.0272914  -1.1370931   0.36529392]\n"
     ]
    }
   ],
   "source": [
    "print(sentences[0])\n",
    "print('早餐' in CBOW_Vector)\n",
    "print(CBOW_Vector['早餐'] * 2)"
   ]
  },
  {
   "cell_type": "code",
   "execution_count": 31,
   "metadata": {},
   "outputs": [],
   "source": [
    "# 计算词的TF-idf\n",
    "\n",
    "# 统计type and token\n",
    "wordList = {}\n",
    "for sentence in sentences:\n",
    "    for word in sentence:\n",
    "        if word in wordList:\n",
    "            wordList[word] += 1\n",
    "        else:\n",
    "            wordList[word] = 1;\n"
   ]
  },
  {
   "cell_type": "code",
   "execution_count": 42,
   "metadata": {},
   "outputs": [],
   "source": [
    "import math\n",
    "VectorSentence = []\n",
    "for sentence in sentences:\n",
    "    tmp = np.zeros(64)\n",
    "    for word in sentence:\n",
    "        # wordcurFreq = sentence.count(word)\n",
    "        # wordAllFreq = wordList[word]\n",
    "        weight = float(sentence.count(word))/len(CBOW_Vector) * math.log(float(len(CBOW_Vector))/wordList[word])\n",
    "        if word in CBOW_Vector:\n",
    "            tmp += (CBOW_Vector[word] * weight)\n",
    "        else:\n",
    "            tmp += (np.zeros(64))\n",
    "    VectorSentence.append(tmp)"
   ]
  },
  {
   "cell_type": "code",
   "execution_count": 43,
   "metadata": {},
   "outputs": [],
   "source": [
    "np.save('句子的向量表示_bin',VectorSentence)"
=======
   "execution_count": 20,
   "metadata": {},
   "outputs": [],
   "source": [
    "# 计算句子中每个词的 tf-idf\n",
    "import math \n",
    "\n",
    "sentenceMerge = sentencePos + sentenceNeg\n",
    "MergeSet = []\n",
    "for iter in sentencePos:\n",
    "    MergeSet += iter\n",
    "\n",
    "for iter in sentenceNeg:\n",
    "    MergeSet += iter\n",
    "\n",
    "MergeSet = set(MergeSet)\n",
    "# 计算TF-idf\n",
    "\n",
    "freq = _countF(MergeSet,sentenceMerge)\n",
    "\n",
    "Vector_TF_IDF = []\n",
    "for sentence in sentenceMerge:\n",
    "    tmp_TF_IDF = []\n",
    "    for iter in MergeSet:\n",
    "        if iter in sentence:\n",
    "            tmp_TF_IDF.append(float(sentence.count(iter))/len(MergeSet) * math.log(float(len(sentenceMerge))/freq[iter]))\n",
    "        else:\n",
    "            tmp_TF_IDF.append(0)\n",
    "    \n",
    "    # 过soft max函数\n",
    "    tmp_TF_IDF = softmax(tmp_TF_IDF)\n",
    "    Vector_TF_IDF.append(tmp_TF_IDF)\n",
    "\n"
>>>>>>> 125fae4b492727e50c4bd48a56118ce439cb7760
   ]
  },
  {
   "cell_type": "code",
<<<<<<< HEAD
   "execution_count": 47,
=======
   "execution_count": 23,
>>>>>>> 125fae4b492727e50c4bd48a56118ce439cb7760
   "metadata": {},
   "outputs": [
    {
     "name": "stdout",
     "output_type": "stream",
     "text": [
<<<<<<< HEAD
      "(4000, 64)\n"
=======
      "<class 'list'>\n"
>>>>>>> 125fae4b492727e50c4bd48a56118ce439cb7760
     ]
    }
   ],
   "source": [
<<<<<<< HEAD
    "# vec = np.load(r'./句子的向量表示_bin.npy')\n",
    "# print (np.shape(vec))"
=======
    "print(type(list(Vector_TF_IDF[0])))"
>>>>>>> 125fae4b492727e50c4bd48a56118ce439cb7760
   ]
  },
  {
   "cell_type": "code",
<<<<<<< HEAD
   "execution_count": 67,
   "metadata": {},
   "outputs": [],
   "source": [
    "# 存储\n",
    "def GetLabel():\n",
    "    dicPos = {}\n",
    "    dicNeg = {}\n",
    "    path = '.\\\\row_语料分词_'\n",
    "    with open(path + 'pos.json','r',encoding = 'utf-8') as f:\n",
    "        dicPos = json.load(f)\n",
    "       \n",
    "    with open(path + 'neg.json','r',encoding = 'utf-8') as f:\n",
    "        dicNeg = json.load(f)\n",
    "    return dicPos,dicNeg\n",
    "\n",
    "dicPos,dicNeg = GetLabel()\n",
    "\n"
   ]
  },
  {
   "cell_type": "code",
   "execution_count": 71,
   "metadata": {},
   "outputs": [
    {
     "name": "stdout",
     "output_type": "stream",
     "text": [
      "2000\n"
     ]
    }
   ],
   "source": [
    "print(len(dicPos))"
=======
   "execution_count": 27,
   "metadata": {},
   "outputs": [],
   "source": [
    "# 存储为 类别 + 向量\n",
    "with open (r'./句子的向量表示' ,'w',encoding= 'utf-8') as f:\n",
    "    for senctence in range (0,len(sentencePos)):\n",
    "        f.write( '1\\t' + str(Vector_TF_IDF[senctence]) + '\\n')\n",
    "    for senctence in range (len(sentencePos),len(sentenceMerge)):\n",
    "        f.write( '0\\t' + str(Vector_TF_IDF[senctence]) + '\\n')\n",
    "        \n"
>>>>>>> 125fae4b492727e50c4bd48a56118ce439cb7760
   ]
  },
  {
   "cell_type": "code",
<<<<<<< HEAD
   "execution_count": 74,
   "metadata": {},
   "outputs": [],
   "source": [
    "with open (r'./句子的向量表示.txt','w',encoding = 'utf-8') as f:\n",
    "    cur = 0\n",
    "    for i in range(0,len(dicPos)):\n",
    "        f.write (str(i) + '\\t' + str(list(VectorSentence[cur])) + '\\n')\n",
    "        cur += 1\n",
    "    for iter in (VectorSentence[cur:]):\n",
    "        f.write (str(i) + '\\t' + str(list(iter)) + '\\n')\n",
    "        cur += 1"
=======
   "execution_count": 35,
   "metadata": {},
   "outputs": [],
   "source": [
    "# 序列化存储\n",
    "import pickle\n",
    "with open (r'./句子的向量表示_序列化' ,'wb') as f:\n",
    "    dic = {0:[],1:[]}\n",
    "    for sentence in range (0,len(sentencePos)):\n",
    "        dic[1].append(list(Vector_TF_IDF[sentence]))\n",
    "    for sentence in range (len(sentencePos),len(sentenceMerge)):\n",
    "        dic[0].append(list(Vector_TF_IDF[sentence]))\n",
    "        # f.write( '0\\t' + str(Vector_TF_IDF[senctence]) + '\\n')\n",
    "    pickle.dump(dic,f)"
>>>>>>> 125fae4b492727e50c4bd48a56118ce439cb7760
   ]
  }
 ],
 "metadata": {
  "interpreter": {
   "hash": "b26237669fb82f55901c81719d6b1a1c6f49e3c8345e7550e9986512a5b1f1dc"
  },
  "kernelspec": {
   "display_name": "Python 3.10.0 ('nlp')",
   "language": "python",
   "name": "python3"
  },
  "language_info": {
   "codemirror_mode": {
    "name": "ipython",
    "version": 3
   },
   "file_extension": ".py",
   "mimetype": "text/x-python",
   "name": "python",
   "nbconvert_exporter": "python",
   "pygments_lexer": "ipython3",
   "version": "3.10.0"
  },
  "orig_nbformat": 4
 },
 "nbformat": 4,
 "nbformat_minor": 2
}
