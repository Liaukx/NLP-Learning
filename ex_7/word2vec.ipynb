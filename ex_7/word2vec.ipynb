{
 "cells": [
  {
   "cell_type": "code",
   "execution_count": 1,
   "metadata": {},
   "outputs": [],
   "source": [
    "import jieba\n",
    "import json\n",
    "import re\n",
    "import os\n",
    "import re\n",
    "import chardet"
   ]
  },
  {
   "cell_type": "code",
   "execution_count": 31,
   "metadata": {},
   "outputs": [],
   "source": [
    "# 读取数据集，预处理。\n",
    "# 分句子\n",
    "# 句子分词\n",
    "\n",
    "# 文件批处理\n",
    "def FileReader(tag):\n",
    "    # print(os.getcwd())\n",
    "    path = r'../ex_5/data/htl_del_4000/' + tag \n",
    "    os.listdir(path)\n",
    "    FileList = []\n",
    "    for iter in os.listdir(path):\n",
    "        if os.path.splitext(iter)[1] == '.txt':\n",
    "            FileList.append(iter)\n",
    "    return FileList\n",
    "\n",
    "\n",
    "def _PreProcess(article):\n",
    "    article = re.sub('\\\\s','',article)\n",
    "    article = re.sub('，','',article)\n",
    "    article = re.sub('；','',article)\n",
    "    article = re.sub('[a-z,A-Z]*','',article)\n",
    "    # print(article)\n",
    "    sentence = re.split('。|？|！',article)\n",
    "    # if len(sentence) > 1:\n",
    "    # print(sentence)\n",
    "    row_list =[]\n",
    "    for iter in sentence:\n",
    "        row_list.append(jieba.lcut(iter,cut_all = False)) \n",
    "    \n",
    "    return row_list\n",
    "\n",
    "def PreProcess(path,id_f):\n",
    "    text = ''\n",
    "    # print(path)\n",
    "    with open(path,'r',encoding = 'gbk',errors = 'ignore') as txt:\n",
    "        text = txt.readline()\n",
    "    # print(text[:20])\n",
    "    sentences = _PreProcess(text)\n",
    "    # print(type(sentences))\n",
    "    dic = {}\n",
    "    id_c = 0\n",
    "    for iter in sentences:\n",
    "        dic[id_c] = iter\n",
    "        id_c += 1\n",
    "    return dic\n",
    "\n",
    "\n",
    "\n",
    "def File_Dic(FileList,tag):\n",
    "    path = r'../ex_5/data/htl_del_4000/' + tag + r'/'\n",
    "    dic = {}\n",
    "\n",
    "    # for iter in range(0,3):\n",
    "    for iter in range(0,len(FileList)):\n",
    "        cur_path = path + FileList[iter]\n",
    "        dic[iter] = PreProcess(cur_path,iter)\n",
    "        # print(dic[iter])\n",
    "    return dic\n",
    "\n",
    "\n",
    "def row_split(tag):\n",
    "    FileList = FileReader(tag)\n",
    "    volc = File_Dic(FileList,tag)\n",
    "    j_data = json.dumps(volc,ensure_ascii=False)\n",
    "    with open(r'./row_语料分词_' + tag + '.json' ,'w',encoding='utf-8') as f:\n",
    "        f.write(j_data)\n",
    "\n",
    "row_split('pos')\n",
    "row_split('neg')"
   ]
  },
  {
   "cell_type": "code",
   "execution_count": 27,
   "metadata": {},
   "outputs": [
    {
     "name": "stdout",
     "output_type": "stream",
     "text": [
      "['早餐太差无论去多少人那边也不加食品的', '酒店应该重视一下这个问题了', '']\n"
     ]
    }
   ],
   "source": [
    "# import re\n",
    "# s = '早餐太差无论去多少人那边也不加食品的。酒店应该重视一下这个问题了。'\n",
    "# s = re.split('。|，',s)\n",
    "# print(s)"
   ]
  },
  {
   "cell_type": "code",
   "execution_count": 32,
   "metadata": {},
   "outputs": [],
   "source": [
    "# 把所有的句子load 进来\n",
    "def loadSentence():\n",
    "    posLen = 0\n",
    "    negLen = 0\n",
    "    sentence = []\n",
    "    dic = {}\n",
    "    path = '.\\\\row_语料分词_'\n",
    "    with open(path + 'pos.json','r',encoding = 'utf-8') as f:\n",
    "        dic = json.load(f)\n",
    "        for iter in dic.values():\n",
    "            for val in iter.values():\n",
    "                sentence.append(val)\n",
    "                posLen += 1\n",
    "    with open(path + 'neg.json','r',encoding = 'utf-8') as f:\n",
    "        dic = json.load(f)\n",
    "        for iter in dic.values():\n",
    "            for val in iter.values():\n",
    "                sentence.append(val)\n",
    "                negLen += 1\n",
    "    return sentence,posLen,negLen\n",
    "sentences,posLen,negLen = loadSentence()\n"
   ]
  },
  {
   "cell_type": "code",
   "execution_count": 33,
   "metadata": {},
   "outputs": [
    {
     "name": "stdout",
     "output_type": "stream",
     "text": [
      "12361\n"
     ]
    }
   ],
   "source": [
    "# print(len(sentences))"
   ]
  },
  {
   "cell_type": "code",
   "execution_count": 34,
   "metadata": {},
   "outputs": [
    {
     "name": "stdout",
     "output_type": "stream",
     "text": [
      "[['早餐', '太', '差', '无论', '去', '多少', '人', '那边', '也', '不加', '食品', '的'], ['酒店', '应该', '重视', '一下', '这个', '问题', '了'], [], ['宾馆', '在', '小', '街道', '上', '不大好', '找', '但', '还好', '北京', '热心', '同胞', '很多', '~'], ['中心', '周围', '没什么', '店铺', '说', '5', '星', '有点', '勉强', '.', '不', '知道', '为什么', '卫生间', '没有', '电吹风']]\n"
     ]
    }
   ],
   "source": [
    "# print(sentences[:5])"
   ]
  },
  {
   "cell_type": "code",
   "execution_count": 35,
   "metadata": {},
   "outputs": [],
   "source": [
    "from gensim.models import word2vec\n",
    "\n",
    "CBOW_Model = word2vec.Word2Vec(sentences, vector_size=64,sg = 0)\n",
    "CBOW_Model.save(\"word2vec_CBOW.model\")\n",
    "\n",
    "\n",
    "skip_garm_Model = word2vec.Word2Vec(sentences, vector_size=64,sg = 0)\n",
    "skip_garm_Model.save(\"word2vec_skip_garm.model\")\n"
   ]
  },
  {
   "cell_type": "code",
   "execution_count": 36,
   "metadata": {},
   "outputs": [],
   "source": [
    "# 训练好的 词向量\n",
    "# https://radimrehurek.com/gensim/models/keyedvectors.html#\n",
    "from gensim.models import KeyedVectors\n",
    "\n",
    "# 二进制形式\n",
    "# CBOW_vectors = model.wv\n",
    "# CBOW_vectors.save('CBOWvectors.kv')\n",
    "# CBOW_word_vectors = KeyedVectors.load('vectors.kv')\n",
    "\n",
    "CBOW_Model.wv.save_word2vec_format('CBOW.txt',binary = False)\n",
    "skip_garm_Model.wv.save_word2vec_format('skip_garm.txt',binary = False)\n"
   ]
  },
  {
   "cell_type": "code",
   "execution_count": 37,
   "metadata": {},
   "outputs": [
    {
     "name": "stdout",
     "output_type": "stream",
     "text": [
      "[ 0.7268715   0.35475895  0.18004695 -0.06718917 -0.09091606 -0.02024413\n",
      "  0.87938905  0.9853866  -0.4175484   0.4860955   0.51452655 -0.98285997\n",
      " -0.5241011  -0.6611428   0.47952646  0.5127956   0.43668288 -0.4351187\n",
      " -0.54587764  1.6200808   0.70000196  1.0937848   0.24367997 -1.1306806\n",
      "  0.18492514  0.6865539  -0.07901439 -0.1192142   0.02157725  0.0179108\n",
      " -0.49417496  0.43541566 -0.79560816 -0.8349246  -0.8719583   0.7420447\n",
      "  0.9168249   0.6524112   0.6179147  -0.5001665  -0.52447957  1.1290827\n",
      " -0.05631541 -1.0157641   0.30878562 -0.47939503  0.13565885  0.06868114\n",
      " -0.04340766 -0.11992697  0.32738692  0.5200104   0.29660487  1.214728\n",
      "  1.4410632  -0.25559792 -0.09852278  0.24846295 -0.51085925 -0.91901654\n",
      " -1.0375206  -0.8896146  -0.48458543  0.43686476]\n",
      "[('旧', 0.9942488074302673), ('一般', 0.993561327457428), ('陈旧', 0.9916391372680664), ('设施', 0.987526535987854), ('环境', 0.9807381629943848), ('比较', 0.9787128567695618), ('隔音', 0.9759792685508728), ('较', 0.9726209044456482), ('但', 0.9719517230987549), ('大', 0.97052401304245)]\n",
      "\n",
      "[('一般', 0.9840969443321228), ('陈旧', 0.9746138453483582), ('旧', 0.9726368188858032), ('设施', 0.9720731973648071), ('隔音', 0.9708452224731445), ('环境', 0.9695830345153809), ('太', 0.968248724937439), ('干净', 0.9635555744171143), ('非常', 0.9606970548629761), ('硬件', 0.9561967253684998)]\n"
     ]
    }
   ],
   "source": [
    "#读取模型\n",
    "# model = word2vec.Word2Vec.load(\"your_model_name\")\n",
    "CBOW_Vector = CBOW_Model.wv\n",
    "skip_garm_Vector = skip_garm_Model.wv\n",
    "print(CBOW_Vector['干净'])\n",
    "\n",
    "print(CBOW_Vector.most_similar('干净'))\n",
    "print()\n",
    "print(skip_garm_Vector.most_similar('差'))"
   ]
  },
  {
   "cell_type": "code",
   "execution_count": 38,
   "metadata": {},
   "outputs": [
    {
     "name": "stdout",
     "output_type": "stream",
     "text": [
      "3113\n",
      "3113\n"
     ]
    }
   ],
   "source": [
    "# 利用已得到的词的向量表示做句子的向量表示\n",
    "print(len(CBOW_Vector))\n",
    "print(len(skip_garm_Vector))"
   ]
  },
  {
   "cell_type": "code",
   "execution_count": 39,
   "metadata": {},
   "outputs": [
    {
     "name": "stdout",
     "output_type": "stream",
     "text": [
      "['早餐', '太', '差', '无论', '去', '多少', '人', '那边', '也', '不加', '食品', '的']\n",
      "True\n",
      "[ 1.2495377   0.06170199  0.8938702   0.35700548  0.31723502 -0.61625624\n",
      "  1.277664    1.202538   -1.1585867   0.33666825  1.109832   -1.652932\n",
      " -1.0610119  -1.0041544   0.806956    0.9353029  -0.05180022 -0.6503395\n",
      " -0.21520421  2.3639724   1.2721382   1.5534258   0.38471395 -1.9917885\n",
      "  0.11107784  1.2311084  -0.13152413  0.03202014  0.17278504  0.06345499\n",
      " -0.59285796  0.9592659  -1.3649746  -1.0861205  -1.1999605   0.90548515\n",
      "  0.9188584   0.90441847  0.6442876  -0.81567323 -0.985507    1.493433\n",
      "  0.04943489 -1.2045292   0.5940871  -0.92582273 -0.19844496 -0.44449088\n",
      "  0.02002396  0.30146676  0.33320138  0.4386125   0.513078    1.8808981\n",
      "  2.0416908  -0.4570658  -0.15623297  0.14181511 -1.101433   -0.8858512\n",
      " -1.4654648  -1.2278835  -0.6489866   0.5554768 ]\n"
     ]
    }
   ],
   "source": [
    "print(sentences[0])\n",
    "print('早餐' in CBOW_Vector)\n",
    "print(CBOW_Vector['早餐'] * 2)"
   ]
  },
  {
   "cell_type": "code",
   "execution_count": 40,
   "metadata": {},
   "outputs": [],
   "source": [
    "# 计算词的TF-idf\n",
    "\n",
    "# 统计type and token\n",
    "wordList = {}\n",
    "for sentence in sentences:\n",
    "    for word in sentence:\n",
    "        if word in wordList:\n",
    "            wordList[word] += 1\n",
    "        else:\n",
    "            wordList[word] = 1;\n"
   ]
  },
  {
   "cell_type": "code",
   "execution_count": 41,
   "metadata": {},
   "outputs": [],
   "source": [
    "import math\n",
    "import numpy as np\n",
    "def softmax(x):\n",
    "    x = np.array(x)\n",
    "    # 计算每行的最大值\n",
    "    row_max = np.max(x)\n",
    "    # 每行元素都需要减去对应的最大值，否则求exp(x)会溢出，导致inf情况\n",
    "    x = x - row_max\n",
    "    # 计算e的指数次幂\n",
    "    x_exp = np.exp(x)\n",
    "    x_sum = np.sum(x_exp)\n",
    "    s = x_exp / x_sum\n",
    "    return s"
   ]
  },
  {
   "cell_type": "code",
   "execution_count": 42,
   "metadata": {},
   "outputs": [],
   "source": [
    "\n",
    "VectorSentence = []\n",
    "for sentence in sentences:\n",
    "    tmp = np.zeros(64)\n",
    "    for word in sentence:\n",
    "        # wordcurFreq = sentence.count(word)\n",
    "        # wordAllFreq = wordList[word]\n",
    "        weight = float(sentence.count(word))/len(sentence) * math.log(float(len(CBOW_Vector))/wordList[word])\n",
    "        if word in CBOW_Vector:\n",
    "            tmp += (CBOW_Vector[word] * weight)\n",
    "        else:\n",
    "            tmp += (np.zeros(64))\n",
    "    \n",
    "    VectorSentence.append(softmax(tmp))"
   ]
  },
  {
   "cell_type": "code",
   "execution_count": 43,
   "metadata": {},
   "outputs": [],
   "source": [
    "np.save('句子的向量表示_bin',VectorSentence)"
   ]
  },
  {
   "cell_type": "code",
   "execution_count": 48,
   "metadata": {},
   "outputs": [
    {
     "name": "stdout",
     "output_type": "stream",
     "text": [
      "12361\n",
      "5687\n",
      "6674\n"
     ]
    }
   ],
   "source": [
    "print(len(VectorSentence))\n",
    "print(posLen)\n",
    "print(negLen)"
   ]
  },
  {
   "cell_type": "code",
   "execution_count": 44,
   "metadata": {},
   "outputs": [],
   "source": [
    "# 存储\n",
    "def GetLabel():\n",
    "    dicPos = {}\n",
    "    dicNeg = {}\n",
    "    path = '.\\\\row_语料分词_'\n",
    "    with open(path + 'pos.json','r',encoding = 'utf-8') as f:\n",
    "        dicPos = json.load(f)\n",
    "       \n",
    "    with open(path + 'neg.json','r',encoding = 'utf-8') as f:\n",
    "        dicNeg = json.load(f)\n",
    "    return dicPos,dicNeg\n",
    "\n",
    "dicPos,dicNeg = GetLabel()\n",
    "\n"
   ]
  },
  {
   "cell_type": "code",
   "execution_count": 45,
   "metadata": {},
   "outputs": [
    {
     "name": "stdout",
     "output_type": "stream",
     "text": [
      "2000\n"
     ]
    }
   ],
   "source": [
    "print(len(dicPos))"
   ]
  },
  {
   "cell_type": "code",
   "execution_count": 18,
   "metadata": {},
   "outputs": [],
   "source": [
    "with open (r'./句子的向量表示.txt','w',encoding = 'utf-8') as f:\n",
    "    cur = 0\n",
    "    for i in range(0,len(dicPos)):\n",
    "        f.write (str(i) + '\\t' + str(list(VectorSentence[cur])) + '\\n')\n",
    "        cur += 1\n",
    "    for iter in (VectorSentence[cur:]):\n",
    "        f.write (str(i) + '\\t' + str(list(iter)) + '\\n')\n",
    "        cur += 1"
   ]
  },
  {
   "cell_type": "code",
   "execution_count": null,
   "metadata": {},
   "outputs": [],
   "source": []
  }
 ],
 "metadata": {
  "interpreter": {
   "hash": "b26237669fb82f55901c81719d6b1a1c6f49e3c8345e7550e9986512a5b1f1dc"
  },
  "kernelspec": {
   "display_name": "Python 3.10.0 ('nlp')",
   "language": "python",
   "name": "python3"
  },
  "language_info": {
   "codemirror_mode": {
    "name": "ipython",
    "version": 3
   },
   "file_extension": ".py",
   "mimetype": "text/x-python",
   "name": "python",
   "nbconvert_exporter": "python",
   "pygments_lexer": "ipython3",
   "version": "3.10.0"
  },
  "orig_nbformat": 4
 },
 "nbformat": 4,
 "nbformat_minor": 2
}
