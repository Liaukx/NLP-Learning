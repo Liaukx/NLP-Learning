{
 "cells": [
  {
   "cell_type": "code",
   "execution_count": 11,
   "metadata": {},
   "outputs": [],
   "source": [
    "import jieba\n",
    "import json\n",
    "import re\n",
    "import os\n",
    "import re\n",
    "import chardet"
   ]
  },
  {
   "cell_type": "code",
   "execution_count": 3,
   "metadata": {},
   "outputs": [],
   "source": [
    "# 文件批处理\n",
    "def FileReader(tag):\n",
    "    # print(os.getcwd())\n",
    "    path = r'../ex_5/data/htl_del_4000/' + tag \n",
    "    os.listdir(path)\n",
    "    FileList = []\n",
    "    for iter in os.listdir(path):\n",
    "        if os.path.splitext(iter)[1] == '.txt':\n",
    "            FileList.append(iter)\n",
    "    return FileList\n"
   ]
  },
  {
   "cell_type": "code",
   "execution_count": null,
   "metadata": {},
   "outputs": [],
   "source": [
    "# 对语料进行分词，去除停用词\n",
    "\n",
    "def _PreProcess(article):\n",
    "    article = re.sub('\\\\s','',article)\n",
    "    article = re.sub('[a-z,A-Z]*','',article)\n",
    "    sentence = article.split('。|？|！')\n",
    "    row_list =[]\n",
    "    for iter in sentence:\n",
    "        row_list.append(jieba.lcut(iter,cut_all = False)) \n",
    "    # print(type(row_list))\n",
    "\n",
    "    return row_list\n",
    "\n",
    "def PreProcess(path,id_f):\n",
    "    text = ''\n",
    "    # print(path)\n",
    "    with open(path,'r',encoding = 'gbk',errors = 'ignore') as txt:\n",
    "        text = txt.readline()\n",
    "    # print(text[:20])\n",
    "    sentences = _PreProcess(text)\n",
    "    # print(type(sentences))\n",
    "    dic = {}\n",
    "    id_c = 0\n",
    "    for iter in sentences:\n",
    "        dic[id_c] = iter\n",
    "        id_c += 1\n",
    "    return dic\n",
    "\n",
    "\n",
    "\n",
    "def File_Dic(FileList,tag):\n",
    "    path = r'../ex_5/data/htl_del_4000/' + tag + r'/'\n",
    "    dic = {}\n",
    "\n",
    "    for iter in range(0,len(FileList)):\n",
    "        cur_path = path + FileList[iter]\n",
    "        dic[iter] = PreProcess(cur_path,iter)\n",
    "        # print(dic[iter])\n",
    "    return dic\n",
    "\n",
    "\n",
    "def row_split(tag):\n",
    "    FileList = FileReader(tag)\n",
    "    # ReWrite(FileList,tag)\n",
    "    volc = File_Dic(FileList,tag)\n",
    "    # print(len(FileList))\n",
    "    j_data = json.dumps(volc,ensure_ascii=False)\n",
    "    with open(r'./row_语料分词_' + tag + '.json' ,'w',encoding='utf-8') as f:\n",
    "        f.write(j_data)\n",
    "\n",
    "row_split('pos')\n",
    "row_split('neg')"
   ]
  },
  {
   "cell_type": "code",
   "execution_count": 12,
   "metadata": {},
   "outputs": [],
   "source": [
    "# 加载分词后的实验数据，获取所有的句子，计算句子的向量表示\n",
    "def load_sentence(tag):\n",
    "    sentence = []\n",
    "    data = {}\n",
    "    with open(r'./row_语料分词_' + tag + '.json' ,'r',encoding='utf-8') as f:\n",
    "        data = json.load(f)\n",
    "        for iter in data.values():\n",
    "            for sent in iter.values():\n",
    "                sentence.append(sent)\n",
    "    return sentence\n",
    "sentencePos = load_sentence('pos')\n",
    "sentenceNeg = load_sentence('neg')\n",
    "# print(sentencePos[:10])\n"
   ]
  },
  {
   "cell_type": "code",
   "execution_count": 19,
   "metadata": {},
   "outputs": [],
   "source": [
    "def _countF(set,sentences):\n",
    "    dic = {}\n",
    "    for iter in set:\n",
    "        for sentence in sentences:\n",
    "            if iter not in dic:\n",
    "                dic[iter] = 0\n",
    "            if iter in sentence:\n",
    "                dic[iter] += 1\n",
    "    return dic\n",
    "\n",
    "# 测试\n",
    "# c = ['a','e','i','o','u']\n",
    "# c = set(c)\n",
    "# word = ['my','supper','countless']\n",
    "# dic = _countF(c,word)\n",
    "# print(dic)"
   ]
  },
  {
   "cell_type": "code",
   "execution_count": 7,
   "metadata": {},
   "outputs": [],
   "source": [
    "import numpy as np\n",
    "def softmax(x):\n",
    "    x = np.array(x)\n",
    "    f_x = np.exp(x) / np.sum(np.exp(x))\n",
    "    \n",
    "    return list(f_x)"
   ]
  },
  {
   "cell_type": "code",
   "execution_count": 20,
   "metadata": {},
   "outputs": [],
   "source": [
    "# 计算句子中每个词的 tf-idf\n",
    "import math \n",
    "\n",
    "sentenceMerge = sentencePos + sentenceNeg\n",
    "MergeSet = []\n",
    "for iter in sentencePos:\n",
    "    MergeSet += iter\n",
    "\n",
    "for iter in sentenceNeg:\n",
    "    MergeSet += iter\n",
    "\n",
    "MergeSet = set(MergeSet)\n",
    "# 计算TF-idf\n",
    "\n",
    "freq = _countF(MergeSet,sentenceMerge)\n",
    "\n",
    "Vector_TF_IDF = []\n",
    "for sentence in sentenceMerge:\n",
    "    tmp_TF_IDF = []\n",
    "    for iter in MergeSet:\n",
    "        if iter in sentence:\n",
    "            tmp_TF_IDF.append(float(sentence.count(iter))/len(MergeSet) * math.log(float(len(sentenceMerge))/freq[iter]))\n",
    "        else:\n",
    "            tmp_TF_IDF.append(0)\n",
    "    \n",
    "    # 过soft max函数\n",
    "    tmp_TF_IDF = softmax(tmp_TF_IDF)\n",
    "    Vector_TF_IDF.append(tmp_TF_IDF)\n",
    "\n"
   ]
  },
  {
   "cell_type": "code",
   "execution_count": 23,
   "metadata": {},
   "outputs": [
    {
     "name": "stdout",
     "output_type": "stream",
     "text": [
      "<class 'list'>\n"
     ]
    }
   ],
   "source": [
    "print(type(list(Vector_TF_IDF[0])))"
   ]
  },
  {
   "cell_type": "code",
   "execution_count": 27,
   "metadata": {},
   "outputs": [],
   "source": [
    "# 存储为 类别 + 向量\n",
    "with open (r'./句子的向量表示' ,'w',encoding= 'utf-8') as f:\n",
    "    for senctence in range (0,len(sentencePos)):\n",
    "        f.write( '1\\t' + str(Vector_TF_IDF[senctence]) + '\\n')\n",
    "    for senctence in range (len(sentencePos),len(sentenceMerge)):\n",
    "        f.write( '0\\t' + str(Vector_TF_IDF[senctence]) + '\\n')\n",
    "        \n"
   ]
  },
  {
   "cell_type": "code",
   "execution_count": 35,
   "metadata": {},
   "outputs": [],
   "source": [
    "# 序列化存储\n",
    "import pickle\n",
    "with open (r'./句子的向量表示_序列化' ,'wb') as f:\n",
    "    dic = {0:[],1:[]}\n",
    "    for sentence in range (0,len(sentencePos)):\n",
    "        dic[1].append(list(Vector_TF_IDF[sentence]))\n",
    "    for sentence in range (len(sentencePos),len(sentenceMerge)):\n",
    "        dic[0].append(list(Vector_TF_IDF[sentence]))\n",
    "        # f.write( '0\\t' + str(Vector_TF_IDF[senctence]) + '\\n')\n",
    "    pickle.dump(dic,f)"
   ]
  }
 ],
 "metadata": {
  "interpreter": {
   "hash": "b26237669fb82f55901c81719d6b1a1c6f49e3c8345e7550e9986512a5b1f1dc"
  },
  "kernelspec": {
   "display_name": "Python 3.10.0 ('nlp')",
   "language": "python",
   "name": "python3"
  },
  "language_info": {
   "codemirror_mode": {
    "name": "ipython",
    "version": 3
   },
   "file_extension": ".py",
   "mimetype": "text/x-python",
   "name": "python",
   "nbconvert_exporter": "python",
   "pygments_lexer": "ipython3",
   "version": "3.10.0"
  },
  "orig_nbformat": 4
 },
 "nbformat": 4,
 "nbformat_minor": 2
}
