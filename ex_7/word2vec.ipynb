{
 "cells": [
  {
   "cell_type": "code",
   "execution_count": 1,
   "metadata": {},
   "outputs": [],
   "source": [
    "import jieba\n",
    "import json\n",
    "import re\n",
    "import os\n",
    "import re\n",
    "import chardet"
   ]
  },
  {
   "cell_type": "code",
   "execution_count": 2,
   "metadata": {},
   "outputs": [
    {
     "name": "stderr",
     "output_type": "stream",
     "text": [
      "Building prefix dict from the default dictionary ...\n",
      "Loading model from cache C:\\Windows\\Temp\\jieba.cache\n",
      "Loading model cost 0.715 seconds.\n",
      "Prefix dict has been built successfully.\n"
     ]
    }
   ],
   "source": [
    "# 读取数据集，预处理。\n",
    "# 分句子\n",
    "# 句子分词\n",
    "\n",
    "# 文件批处理\n",
    "def FileReader(tag):\n",
    "    # print(os.getcwd())\n",
    "    path = r'../ex_5/data/htl_del_4000/' + tag \n",
    "    os.listdir(path)\n",
    "    FileList = []\n",
    "    for iter in os.listdir(path):\n",
    "        if os.path.splitext(iter)[1] == '.txt':\n",
    "            FileList.append(iter)\n",
    "    return FileList\n",
    "\n",
    "\n",
    "def _PreProcess(article):\n",
    "    article = re.sub('\\\\s','',article)\n",
    "    article = re.sub('，','',article)\n",
    "    article = re.sub('；','',article)\n",
    "    article = re.sub('[a-z,A-Z]*','',article)\n",
    "    sentence = article.split('。|？|！')\n",
    "    row_list =[]\n",
    "    for iter in sentence:\n",
    "        row_list.append(jieba.lcut(iter,cut_all = False)) \n",
    "    return row_list\n",
    "\n",
    "def PreProcess(path,id_f):\n",
    "    text = ''\n",
    "    # print(path)\n",
    "    with open(path,'r',encoding = 'gbk',errors = 'ignore') as txt:\n",
    "        text = txt.readline()\n",
    "    # print(text[:20])\n",
    "    sentences = _PreProcess(text)\n",
    "    # print(type(sentences))\n",
    "    dic = {}\n",
    "    id_c = 0\n",
    "    for iter in sentences:\n",
    "        dic[id_c] = iter\n",
    "        id_c += 1\n",
    "    return dic\n",
    "\n",
    "\n",
    "\n",
    "def File_Dic(FileList,tag):\n",
    "    path = r'../ex_5/data/htl_del_4000/' + tag + r'/'\n",
    "    dic = {}\n",
    "\n",
    "    for iter in range(0,len(FileList)):\n",
    "        cur_path = path + FileList[iter]\n",
    "        dic[iter] = PreProcess(cur_path,iter)\n",
    "        # print(dic[iter])\n",
    "    return dic\n",
    "\n",
    "\n",
    "def row_split(tag):\n",
    "    FileList = FileReader(tag)\n",
    "    volc = File_Dic(FileList,tag)\n",
    "    j_data = json.dumps(volc,ensure_ascii=False)\n",
    "    with open(r'./row_语料分词_' + tag + '.json' ,'w',encoding='utf-8') as f:\n",
    "        f.write(j_data)\n",
    "\n",
    "row_split('pos')\n",
    "row_split('neg')"
   ]
  },
  {
   "cell_type": "code",
   "execution_count": 3,
   "metadata": {},
   "outputs": [],
   "source": [
    "# 把所有的句子load 进来\n",
    "def loadSentence():\n",
    "    sentence = []\n",
    "    dic = {}\n",
    "    path = '.\\\\row_语料分词_'\n",
    "    with open(path + 'pos.json','r',encoding = 'utf-8') as f:\n",
    "        dic = json.load(f)\n",
    "        for iter in dic.values():\n",
    "            for val in iter.values():\n",
    "                sentence.append(val)\n",
    "    with open(path + 'neg.json','r',encoding = 'utf-8') as f:\n",
    "        dic = json.load(f)\n",
    "        for iter in dic.values():\n",
    "            for val in iter.values():\n",
    "                sentence.append(val)\n",
    "    return sentence\n",
    "sentences = loadSentence()\n"
   ]
  },
  {
   "cell_type": "code",
   "execution_count": 4,
   "metadata": {},
   "outputs": [],
   "source": [
    "# print(sentence[:10])"
   ]
  },
  {
   "cell_type": "code",
   "execution_count": 5,
   "metadata": {},
   "outputs": [],
   "source": [
    "from gensim.models import word2vec\n",
    "\n",
    "CBOW_Model = word2vec.Word2Vec(sentences, vector_size=64,sg = 0)\n",
    "CBOW_Model.save(\"word2vec_CBOW.model\")\n",
    "\n",
    "\n",
    "skip_garm_Model = word2vec.Word2Vec(sentences, vector_size=64,sg = 0)\n",
    "skip_garm_Model.save(\"word2vec_skip_garm.model\")\n"
   ]
  },
  {
   "cell_type": "code",
   "execution_count": 6,
   "metadata": {},
   "outputs": [],
   "source": [
    "# 训练好的 词向量\n",
    "# https://radimrehurek.com/gensim/models/keyedvectors.html#\n",
    "from gensim.models import KeyedVectors\n",
    "\n",
    "# 二进制形式\n",
    "# CBOW_vectors = model.wv\n",
    "# CBOW_vectors.save('CBOWvectors.kv')\n",
    "# CBOW_word_vectors = KeyedVectors.load('vectors.kv')\n",
    "\n",
    "CBOW_Model.wv.save_word2vec_format('CBOW.txt',binary = False)\n",
    "skip_garm_Model.wv.save_word2vec_format('skip_garm.txt',binary = False)\n"
   ]
  },
  {
   "cell_type": "code",
   "execution_count": 7,
   "metadata": {},
   "outputs": [
    {
     "name": "stdout",
     "output_type": "stream",
     "text": [
      "[-0.34854105 -1.034342   -0.06974277  1.1922891  -0.5333772  -0.08679725\n",
      "  0.9408814  -0.3173303  -0.13317023  0.18002288  1.2883686  -0.15165782\n",
      " -0.80739814 -0.28593966 -0.52885735  0.58958316 -0.22722445  0.22741541\n",
      " -0.880595    0.8154139   0.200517    1.1794848   0.6841546  -0.44262642\n",
      " -0.20810828  1.2707013  -1.1705346  -0.70590585 -0.10543224 -0.34392506\n",
      " -1.213578    0.5781314  -0.02455596 -1.3731282   0.96913016 -0.39055815\n",
      "  0.41830233  0.1448541   0.73811644  0.33483657 -0.07545519  0.30129763\n",
      " -0.1441485  -0.5901611   0.02402375 -0.09789886 -0.62780035  0.01154778\n",
      "  0.32810256  0.59840524  1.4017682  -0.4035343   2.2437356   0.32142228\n",
      " -0.05136845  0.82486135 -0.09535942 -0.14841291 -0.73174024  0.78472626\n",
      " -0.26722622 -0.77832407 -0.37597272  0.19153492]\n",
      "[('旧', 0.9948569536209106), ('一般', 0.9941177368164062), ('陈旧', 0.9912216663360596), ('设施', 0.9896920323371887), ('比较', 0.9861384630203247), ('环境', 0.9759221076965332), ('但', 0.9756282567977905), ('隔音', 0.9750422835350037), ('卫生间', 0.9701163172721863), ('装修', 0.9679262042045593)]\n",
      "\n",
      "[('太', 0.9721479415893555), ('非常', 0.9548388719558716), ('隔音', 0.9515382051467896), ('服务', 0.9489828944206238), ('不好', 0.9472749829292297), ('环境', 0.9405319690704346), ('硬件', 0.9394658803939819), ('很差', 0.9389541149139404), ('舒服', 0.9389474987983704), ('一般', 0.9378415942192078)]\n"
     ]
    }
   ],
   "source": [
    "#读取模型\n",
    "# model = word2vec.Word2Vec.load(\"your_model_name\")\n",
    "CBOW_Vector = CBOW_Model.wv\n",
    "skip_garm_Vector = skip_garm_Model.wv\n",
    "print(CBOW_Vector['干净'])\n",
    "\n",
    "print(CBOW_Vector.most_similar('干净'))\n",
    "print()\n",
    "print(skip_garm_Vector.most_similar('差'))"
   ]
  },
  {
   "cell_type": "code",
   "execution_count": 8,
   "metadata": {},
   "outputs": [
    {
     "name": "stdout",
     "output_type": "stream",
     "text": [
      "3116\n",
      "3116\n"
     ]
    }
   ],
   "source": [
    "# 利用已得到的词的向量表示做句子的向量表示\n",
    "print(len(CBOW_Vector))\n",
    "print(len(skip_garm_Vector))"
   ]
  },
  {
   "cell_type": "code",
   "execution_count": 9,
   "metadata": {},
   "outputs": [
    {
     "name": "stdout",
     "output_type": "stream",
     "text": [
      "['早餐', '太', '差', '无论', '去', '多少', '人', '那边', '也', '不加', '食品', '的', '。', '酒店', '应该', '重视', '一下', '这个', '问题', '了', '。']\n",
      "True\n",
      "[ 0.23889136 -1.442047    0.27054727  1.5803475  -0.5371949  -0.68213487\n",
      "  1.5501332  -0.38456663 -0.7432624  -0.33872926  1.7118111  -0.44120052\n",
      " -0.9703725  -0.25848624 -0.23643531  1.0129778  -0.4344748   0.2942489\n",
      " -1.5947871   1.7475039   0.5832866   1.9694809   0.88499707 -0.84228516\n",
      " -0.47149134  2.276378   -1.4875078  -0.8115608   0.20088314 -0.569311\n",
      " -1.428398    0.66019225 -0.6316423  -2.1347134   0.7661441  -0.89627963\n",
      "  0.6127321   0.2956385   1.0628462   0.70144916 -0.01865558  0.64356625\n",
      " -0.3167452  -0.53170633  0.28982204 -0.30712095 -0.86900365 -0.11825174\n",
      "  0.2330756   1.2551416   1.4775182  -0.6333071   3.0787601   0.83511007\n",
      "  0.08379519  1.1118814   0.16943388 -0.876393   -1.3571746   1.2184899\n",
      " -0.29570964 -1.1671492  -1.0955456   0.3571478 ]\n"
     ]
    }
   ],
   "source": [
    "print(sentences[0])\n",
    "print('早餐' in CBOW_Vector)\n",
    "print(CBOW_Vector['早餐'] * 2)"
   ]
  },
  {
   "cell_type": "code",
   "execution_count": 10,
   "metadata": {},
   "outputs": [],
   "source": [
    "# 计算词的TF-idf\n",
    "\n",
    "# 统计type and token\n",
    "wordList = {}\n",
    "for sentence in sentences:\n",
    "    for word in sentence:\n",
    "        if word in wordList:\n",
    "            wordList[word] += 1\n",
    "        else:\n",
    "            wordList[word] = 1;\n"
   ]
  },
  {
   "cell_type": "code",
   "execution_count": 13,
   "metadata": {},
   "outputs": [],
   "source": [
    "import math\n",
    "import numpy as np\n",
    "def softmax(x):\n",
    "    x = np.array(x)\n",
    "    # 计算每行的最大值\n",
    "    row_max = np.max(x)\n",
    "    # 每行元素都需要减去对应的最大值，否则求exp(x)会溢出，导致inf情况\n",
    "    x = x - row_max\n",
    "    # 计算e的指数次幂\n",
    "    x_exp = np.exp(x)\n",
    "    x_sum = np.sum(x_exp)\n",
    "    s = x_exp / x_sum\n",
    "    return s"
   ]
  },
  {
   "cell_type": "code",
   "execution_count": 14,
   "metadata": {},
   "outputs": [],
   "source": [
    "\n",
    "VectorSentence = []\n",
    "for sentence in sentences:\n",
    "    tmp = np.zeros(64)\n",
    "    for word in sentence:\n",
    "        # wordcurFreq = sentence.count(word)\n",
    "        # wordAllFreq = wordList[word]\n",
    "        weight = float(sentence.count(word))/len(CBOW_Vector) * math.log(float(len(CBOW_Vector))/wordList[word])\n",
    "        if word in CBOW_Vector:\n",
    "            tmp += (CBOW_Vector[word] * weight)\n",
    "        else:\n",
    "            tmp += (np.zeros(64))\n",
    "    \n",
    "    VectorSentence.append(softmax(tmp))"
   ]
  },
  {
   "cell_type": "code",
   "execution_count": 15,
   "metadata": {},
   "outputs": [],
   "source": [
    "np.save('句子的向量表示_bin',VectorSentence)"
   ]
  },
  {
   "cell_type": "code",
   "execution_count": null,
   "metadata": {},
   "outputs": [
    {
     "name": "stdout",
     "output_type": "stream",
     "text": [
      "(4000, 64)\n"
     ]
    }
   ],
   "source": [
    "# vec = np.load(r'./句子的向量表示_bin.npy')\n",
    "# print (np.shape(vec))"
   ]
  },
  {
   "cell_type": "code",
   "execution_count": 16,
   "metadata": {},
   "outputs": [],
   "source": [
    "# 存储\n",
    "def GetLabel():\n",
    "    dicPos = {}\n",
    "    dicNeg = {}\n",
    "    path = '.\\\\row_语料分词_'\n",
    "    with open(path + 'pos.json','r',encoding = 'utf-8') as f:\n",
    "        dicPos = json.load(f)\n",
    "       \n",
    "    with open(path + 'neg.json','r',encoding = 'utf-8') as f:\n",
    "        dicNeg = json.load(f)\n",
    "    return dicPos,dicNeg\n",
    "\n",
    "dicPos,dicNeg = GetLabel()\n",
    "\n"
   ]
  },
  {
   "cell_type": "code",
   "execution_count": 17,
   "metadata": {},
   "outputs": [
    {
     "name": "stdout",
     "output_type": "stream",
     "text": [
      "2000\n"
     ]
    }
   ],
   "source": [
    "print(len(dicPos))"
   ]
  },
  {
   "cell_type": "code",
   "execution_count": 18,
   "metadata": {},
   "outputs": [],
   "source": [
    "with open (r'./句子的向量表示.txt','w',encoding = 'utf-8') as f:\n",
    "    cur = 0\n",
    "    for i in range(0,len(dicPos)):\n",
    "        f.write (str(i) + '\\t' + str(list(VectorSentence[cur])) + '\\n')\n",
    "        cur += 1\n",
    "    for iter in (VectorSentence[cur:]):\n",
    "        f.write (str(i) + '\\t' + str(list(iter)) + '\\n')\n",
    "        cur += 1"
   ]
  },
  {
   "cell_type": "code",
   "execution_count": null,
   "metadata": {},
   "outputs": [],
   "source": []
  }
 ],
 "metadata": {
  "interpreter": {
   "hash": "b26237669fb82f55901c81719d6b1a1c6f49e3c8345e7550e9986512a5b1f1dc"
  },
  "kernelspec": {
   "display_name": "Python 3.10.0 ('nlp')",
   "language": "python",
   "name": "python3"
  },
  "language_info": {
   "codemirror_mode": {
    "name": "ipython",
    "version": 3
   },
   "file_extension": ".py",
   "mimetype": "text/x-python",
   "name": "python",
   "nbconvert_exporter": "python",
   "pygments_lexer": "ipython3",
   "version": "3.10.0"
  },
  "orig_nbformat": 4
 },
 "nbformat": 4,
 "nbformat_minor": 2
}
