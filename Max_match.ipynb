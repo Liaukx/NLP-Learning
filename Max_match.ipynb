{
 "cells": [
  {
   "cell_type": "code",
   "execution_count": 6,
   "metadata": {},
   "outputs": [],
   "source": [
    "def Max_match(txt,dit,max_len):\n",
    "    ans_str = \"\"\n",
    "    while len(txt) > 0:\n",
    "        cur = max_len\n",
    "        while cur != 1:\n",
    "            if txt[0:cur] in dit:\n",
    "                ans_str += txt[0:cur]+\"/\"\n",
    "                txt = txt[cur:]\n",
    "                break    \n",
    "            else:\n",
    "                cur = cur -1\n",
    "        if(cur == 1):\n",
    "            ans_str += txt[cur - 1] +\"/\"\n",
    "            txt = txt [cur:]\n",
    "\n",
    "    return ans_str"
   ]
  },
  {
   "cell_type": "code",
   "execution_count": 12,
   "metadata": {},
   "outputs": [],
   "source": [
    "def Recall(test_list,out_list):\n",
    "    cnt = 0\n",
    "    for iter in out_list:\n",
    "        if iter in test_list:\n",
    "            cnt += 1\n",
    "    \n",
    "    return cnt/len(test_list)\n",
    "    \n",
    "def Precision(test_list,out_list):\n",
    "    cnt = 0\n",
    "    for iter in out_list:\n",
    "        if iter in test_list:\n",
    "            cnt += 1\n",
    "    return cnt/len(out_list)\n",
    "\n",
    "def F_measure(test_list,out_list):\n",
    "    recal = Recall(test_list,out_list)\n",
    "    precision = Precision(test_list,out_list)\n",
    "    if recal + precision != 0:\n",
    "        return 2 * recal * precision / (recal + precision)\n",
    "    else:\n",
    "        return 2 * recal * precision / 1\n",
    "\n",
    "    "
   ]
  },
  {
   "cell_type": "code",
   "execution_count": 2,
   "metadata": {},
   "outputs": [],
   "source": [
    "def readF(path,encode):\n",
    "    file = open(path,encoding=encode)\n",
    "    txt = file.read()\n",
    "    file.close()\n",
    "    return txt\n",
    "\n",
    "def readF_as_line(path,encode):\n",
    "    file = open(path,encoding=encode)\n",
    "    txt_list = file.read().splitlines()\n",
    "    file.close()\n",
    "    return txt_list\n"
   ]
  },
  {
   "cell_type": "code",
   "execution_count": null,
   "metadata": {},
   "outputs": [],
   "source": [
    "def markov_method():\n",
    "    \n",
    "    return "
   ]
  },
  {
   "cell_type": "code",
   "execution_count": null,
   "metadata": {},
   "outputs": [],
   "source": [
    "def main():\n",
    "    txt = readF(r'./ori.txt','utf-8')\n",
    "    txt_list = readF_as_line(r'./词表.txt','utf-8')\n",
    "    max_len = max(map(len,txt_list))\n",
    "    ans_txt = Max_match(txt,txt_list,max_len)\n",
    "\n",
    "    with open('ori.txt','w',encoding='utf-8') as f:\n",
    "\t    f.write(ans_txt)\n",
    "\n",
    "\n",
    "if __name__ == '__main__':\n",
    "    main()"
   ]
  },
  {
   "cell_type": "code",
   "execution_count": 28,
   "metadata": {},
   "outputs": [
    {
     "name": "stdout",
     "output_type": "stream",
     "text": [
      "['小刚', '刚刚', '刚', '来', '过']\n",
      "小刚/刚刚/刚/来/过/\n",
      "0.75\n",
      "0.6\n",
      "0.6666666666666665\n"
     ]
    }
   ],
   "source": [
    "txt = \"小刚刚刚刚来过\"\n",
    "txt_list = readF_as_line(r'./词表.txt','utf-8')\n",
    "\n",
    "max_len = max(map(len,txt_list))\n",
    "ans = Max_match(txt,txt_list,max_len)\n",
    "ans_list = ans.split('/')\n",
    "ans_list = ans_list[:-1]\n",
    "print(ans_list)\n",
    "print(ans)\n",
    "label_list = [\"小刚\",\"刚刚\",\"刚\",\"来过\"]\n",
    "print(Recall(label_list,ans_list))\n",
    "print(Precision(label_list,ans_list))\n",
    "print(F_measure(label_list,ans_list))\n"
   ]
  },
  {
   "cell_type": "code",
   "execution_count": 34,
   "metadata": {},
   "outputs": [
    {
     "name": "stdout",
     "output_type": "stream",
     "text": [
      "小/刚刚/刚刚/来过\n",
      "1.0\n",
      "0.4\n",
      "0.5714285714285715\n"
     ]
    }
   ],
   "source": [
    "import jieba\n",
    "# https://github.com/fxsjy/jieba\n",
    "# jieba.load_userdict('./词表.txt')\n",
    "# 设置模式\n",
    "jieba_list = jieba.lcut(\"小刚刚刚刚来过\",cut_all = False)\n",
    "ans_list = '/'.join(jieba_list)\n",
    "print(ans_list)\n",
    "# print(ans)\n",
    "label_list = [\"小刚\",\"刚刚\",\"刚\",\"来过\"]\n",
    "print(Recall(label_list,ans_list))\n",
    "print(Precision(label_list,ans_list))\n",
    "print(F_measure(label_list,ans_list))"
   ]
  }
 ],
 "metadata": {
  "interpreter": {
   "hash": "18971e19cd97d437897f89a4050b06dc3fe2bc0b3d9ace86632b37c80abdc31f"
  },
  "kernelspec": {
   "display_name": "Python 3.9.5 ('nlp')",
   "language": "python",
   "name": "python3"
  },
  "language_info": {
   "codemirror_mode": {
    "name": "ipython",
    "version": 3
   },
   "file_extension": ".py",
   "mimetype": "text/x-python",
   "name": "python",
   "nbconvert_exporter": "python",
   "pygments_lexer": "ipython3",
   "version": "3.9.5"
  },
  "orig_nbformat": 4
 },
 "nbformat": 4,
 "nbformat_minor": 2
}
